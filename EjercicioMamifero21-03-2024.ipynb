{
 "cells": [
  {
   "cell_type": "code",
   "execution_count": 13,
   "metadata": {},
   "outputs": [],
   "source": [
    "import numpy as np\n",
    "import math"
   ]
  },
  {
   "cell_type": "code",
   "execution_count": 14,
   "metadata": {},
   "outputs": [],
   "source": [
    "data = np.loadtxt('./drive-download-20240304T191658Z-001/mamiferos.csv', dtype=str, delimiter=',')"
   ]
  },
  {
   "cell_type": "code",
   "execution_count": 15,
   "metadata": {},
   "outputs": [],
   "source": [
    "features_index = {n:i for i, n in enumerate(data[0,1:])}\n",
    "features_index_inv = {i:n for i, n in enumerate(data[0,1:])}"
   ]
  },
  {
   "cell_type": "code",
   "execution_count": 16,
   "metadata": {},
   "outputs": [],
   "source": [
    "def column(f):\n",
    "    return features_index[f]\n",
    "\n",
    "def column_inv(f):\n",
    "    return features_index_inv[f]"
   ]
  },
  {
   "cell_type": "code",
   "execution_count": 17,
   "metadata": {},
   "outputs": [],
   "source": [
    "info_as_int = data[1:, 1:].astype(int)"
   ]
  },
  {
   "cell_type": "code",
   "execution_count": 18,
   "metadata": {},
   "outputs": [],
   "source": [
    "animals = data[1:, 0]\n",
    "total_animals = len(animals)"
   ]
  },
  {
   "cell_type": "code",
   "execution_count": 19,
   "metadata": {},
   "outputs": [],
   "source": [
    "vuela = info_as_int[:, column('vuela')]\n",
    "ponehuevos = info_as_int[:, column('ponehuevos')]\n",
    "nada = info_as_int[:, column('nada')]\n",
    "mamifero = info_as_int[:, column('mamifero')]"
   ]
  },
  {
   "cell_type": "code",
   "execution_count": 20,
   "metadata": {},
   "outputs": [],
   "source": [
    "def p(s, total):\n",
    "    print(f'{s}/{total}')\n",
    "    return s / total"
   ]
  },
  {
   "cell_type": "code",
   "execution_count": 21,
   "metadata": {},
   "outputs": [],
   "source": [
    "def H(s, total, mode='entropy'):\n",
    "    p_s = p(s, total)\n",
    "    if mode == 'entropy':\n",
    "        if p_s != 0:\n",
    "            return p_s * math.log2(1/p_s)\n",
    "        return 0\n",
    "    elif mode == 'gini':\n",
    "        return p_s**2"
   ]
  },
  {
   "cell_type": "code",
   "execution_count": 22,
   "metadata": {},
   "outputs": [],
   "source": [
    "def a_i(column_enum, feature, target_enum, target, mode='entropy'):\n",
    "    value = 0\n",
    "    for i in range(2):\n",
    "        print(f'{column_inv(column_enum)}={i}: ', end='')\n",
    "        sub_total = len(animals[(feature == i)])\n",
    "        p_i = p(sub_total, total_animals)\n",
    "        sub_value = 0\n",
    "        for j in range(2):\n",
    "            counter = 0\n",
    "            for f, t in zip(feature, target):\n",
    "                if f == i and t == j:\n",
    "                    counter += 1\n",
    "            print(f'{column_inv(column_enum)}={i}\\t({column_inv(target_enum)}={j}): ', end='')\n",
    "            sub_value += H(counter, sub_total, mode)\n",
    "        h_s = 0\n",
    "        if mode == 'entropy':\n",
    "            h_s = p_i * sub_value\n",
    "        elif mode == 'gini':\n",
    "            h_s = p_i * (1 - sub_value)\n",
    "        value += h_s\n",
    "    return value"
   ]
  },
  {
   "cell_type": "code",
   "execution_count": 23,
   "metadata": {},
   "outputs": [],
   "source": [
    "def a_best(features, target, mode='entropy'):\n",
    "    values = []\n",
    "    for i, feature in enumerate(features):\n",
    "        temp = a_i(i, feature, 3, target, mode)\n",
    "        values.append(temp)\n",
    "        print(f'\\n\\n{column_inv(i)} -- {mode} --> {temp}\\n\\n---------------------------------------\\n')\n",
    "    return values"
   ]
  },
  {
   "cell_type": "code",
   "execution_count": 24,
   "metadata": {},
   "outputs": [
    {
     "name": "stdout",
     "output_type": "stream",
     "text": [
      "ESTE ES EL DATASET:\n",
      "[['animal' 'vuela' 'ponehuevos' 'nada' 'mamifero']\n",
      " ['gallina' '0' '1' '0' '0']\n",
      " ['perro' '0' '0' '1' '1']\n",
      " ['gato' '0' '0' '1' '1']\n",
      " ['pinguino' '0' '1' '1' '0']\n",
      " ['pato' '1' '1' '1' '0']\n",
      " ['ornitorrinco' '0' '1' '1' '1']\n",
      " ['murcielago' '1' '0' '0' '1']]\n",
      "-------------------------------------------------\n",
      "\n",
      "vuela=0: 5/7\n",
      "vuela=0\t(mamifero=0): 2/5\n",
      "vuela=0\t(mamifero=1): 3/5\n",
      "vuela=1: 2/7\n",
      "vuela=1\t(mamifero=0): 1/2\n",
      "vuela=1\t(mamifero=1): 1/2\n",
      "\n",
      "\n",
      "vuela -- entropy --> 0.9792504246104776\n",
      "\n",
      "---------------------------------------\n",
      "\n",
      "ponehuevos=0: 3/7\n",
      "ponehuevos=0\t(mamifero=0): 0/3\n",
      "ponehuevos=0\t(mamifero=1): 3/3\n",
      "ponehuevos=1: 4/7\n",
      "ponehuevos=1\t(mamifero=0): 3/4\n",
      "ponehuevos=1\t(mamifero=1): 1/4\n",
      "\n",
      "\n",
      "ponehuevos -- entropy --> 0.46358749969093294\n",
      "\n",
      "---------------------------------------\n",
      "\n",
      "nada=0: 2/7\n",
      "nada=0\t(mamifero=0): 1/2\n",
      "nada=0\t(mamifero=1): 1/2\n",
      "nada=1: 5/7\n",
      "nada=1\t(mamifero=0): 2/5\n",
      "nada=1\t(mamifero=1): 3/5\n",
      "\n",
      "\n",
      "nada -- entropy --> 0.9792504246104776\n",
      "\n",
      "---------------------------------------\n",
      "\n",
      "vuela=0: 5/7\n",
      "vuela=0\t(mamifero=0): 2/5\n",
      "vuela=0\t(mamifero=1): 3/5\n",
      "vuela=1: 2/7\n",
      "vuela=1\t(mamifero=0): 1/2\n",
      "vuela=1\t(mamifero=1): 1/2\n",
      "\n",
      "\n",
      "vuela -- gini --> 0.4857142857142857\n",
      "\n",
      "---------------------------------------\n",
      "\n",
      "ponehuevos=0: 3/7\n",
      "ponehuevos=0\t(mamifero=0): 0/3\n",
      "ponehuevos=0\t(mamifero=1): 3/3\n",
      "ponehuevos=1: 4/7\n",
      "ponehuevos=1\t(mamifero=0): 3/4\n",
      "ponehuevos=1\t(mamifero=1): 1/4\n",
      "\n",
      "\n",
      "ponehuevos -- gini --> 0.21428571428571427\n",
      "\n",
      "---------------------------------------\n",
      "\n",
      "nada=0: 2/7\n",
      "nada=0\t(mamifero=0): 1/2\n",
      "nada=0\t(mamifero=1): 1/2\n",
      "nada=1: 5/7\n",
      "nada=1\t(mamifero=0): 2/5\n",
      "nada=1\t(mamifero=1): 3/5\n",
      "\n",
      "\n",
      "nada -- gini --> 0.4857142857142857\n",
      "\n",
      "---------------------------------------\n",
      "\n"
     ]
    },
    {
     "data": {
      "text/plain": [
       "[0.4857142857142857, 0.21428571428571427, 0.4857142857142857]"
      ]
     },
     "execution_count": 24,
     "metadata": {},
     "output_type": "execute_result"
    }
   ],
   "source": [
    "features = [vuela, ponehuevos, nada]\n",
    "target = mamifero\n",
    "\n",
    "print(f'ESTE ES EL DATASET:\\n{data}\\n-------------------------------------------------\\n')\n",
    "a_best(features, target)\n",
    "a_best(features, target, 'gini')"
   ]
  }
 ],
 "metadata": {
  "kernelspec": {
   "display_name": "nn",
   "language": "python",
   "name": "python3"
  },
  "language_info": {
   "codemirror_mode": {
    "name": "ipython",
    "version": 3
   },
   "file_extension": ".py",
   "mimetype": "text/x-python",
   "name": "python",
   "nbconvert_exporter": "python",
   "pygments_lexer": "ipython3",
   "version": "3.10.13"
  }
 },
 "nbformat": 4,
 "nbformat_minor": 2
}
