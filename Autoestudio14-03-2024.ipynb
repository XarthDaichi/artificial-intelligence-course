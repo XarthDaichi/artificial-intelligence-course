{
 "cells": [
  {
   "cell_type": "markdown",
   "metadata": {},
   "source": [
    "## Vuela:\n",
    "\n",
    "NV = 5/7\n",
    "V = 2/7\n",
    "\n",
    "NVM = 3/5\n",
    "\n",
    "NVNM = 2/5\n",
    "\n",
    "VM = 1/2\n",
    "\n",
    "VNM = 1/2\n",
    "\n",
    "Gini = $2/7(1-(1/2)^2 + (1/2)^2) + 5/7(1 - (3/5)^2 + (2/5)^2)$\\\\\n",
    "Gini = 0.48571\n",
    "\n",
    "## Ponehuevos:\n",
    "NPH = 3/7\n",
    "PH = 4/7\n",
    "\n",
    "NPHM = 3/3\n",
    "\n",
    "NPHNM = 0/3\n",
    "\n",
    "PHM = 1/4\n",
    "PHNM = 3/4\n",
    "\n",
    "Gini = $4/7(1 - (1/4)^2 + (3/4)^2) + 3/7(1 - (3/3)^2 + (0/3)^2)$\\\\\n",
    "Gini = 0.21428\n",
    "\n",
    "## Nada:\n",
    "NN = 2/7\n",
    "N = 5/7\n",
    "\n",
    "NNM = 1/2\n",
    "NNNM = 1/2\n",
    "\n",
    "NM = 3/5\n",
    "NNM = 2/5\n",
    "\n",
    "Gini = $5/7(1 - (3/5)^2 + (2/5)^2) + 2/7(1 - (1/2)^2 + (1/2)^2)$\\\\\n",
    "Gini = 0.48571\n"
   ]
  },
  {
   "cell_type": "code",
   "execution_count": null,
   "metadata": {},
   "outputs": [],
   "source": []
  }
 ],
 "metadata": {
  "language_info": {
   "name": "python"
  }
 },
 "nbformat": 4,
 "nbformat_minor": 2
}
