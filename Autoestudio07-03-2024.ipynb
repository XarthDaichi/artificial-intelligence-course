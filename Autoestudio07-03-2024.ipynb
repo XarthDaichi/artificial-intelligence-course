{
 "cells": [
  {
   "cell_type": "code",
   "execution_count": 14,
   "metadata": {},
   "outputs": [],
   "source": [
    "import pandas as pd\n",
    "import math"
   ]
  },
  {
   "cell_type": "code",
   "execution_count": 15,
   "metadata": {},
   "outputs": [
    {
     "name": "stdout",
     "output_type": "stream",
     "text": [
      "    provincia   numero\n",
      "0    San_José  1601167\n",
      "1    Alajuela  1035464\n",
      "2     Cartago   545092\n",
      "3  Puntarenas   500166\n",
      "4     Heredia   479117\n",
      "5       Limón   470383\n",
      "6  Guanacaste   412808\n"
     ]
    }
   ],
   "source": [
    "df = pd.read_csv(\"./poblacion_provincias_cr.csv\")\n",
    "print(df)"
   ]
  },
  {
   "cell_type": "code",
   "execution_count": 16,
   "metadata": {},
   "outputs": [
    {
     "name": "stdout",
     "output_type": "stream",
     "text": [
      "5044197\n",
      "True\n"
     ]
    }
   ],
   "source": [
    "total = df['numero'].sum()\n",
    "print(total)\n",
    "\n",
    "total_manual = 1601167 + 1035464 + 545092 + 500166 + 479117 + 470383 + 412808\n",
    "\n",
    "print(total == total_manual)"
   ]
  },
  {
   "cell_type": "code",
   "execution_count": 17,
   "metadata": {},
   "outputs": [
    {
     "name": "stdout",
     "output_type": "stream",
     "text": [
      "San Jose 0.3174275310817559\n",
      "Alajuela 0.20527826331921611\n",
      "Cartago 0.1080631862712737\n",
      "Puntarenas 0.09915671414102185\n",
      "Heredia 0.09498380019654268\n",
      "Limon 0.09325230557014327\n",
      "Guanacaste 0.08183819942004644\n"
     ]
    }
   ],
   "source": [
    "def p(s):\n",
    "    df_copy = df.copy()\n",
    "    pob = df_copy.loc[(df['provincia'] == s), 'numero'].values[0]\n",
    "    return (pob / total)\n",
    "\n",
    "print('San Jose', p('San_José'))\n",
    "print('Alajuela', p('Alajuela'))\n",
    "print('Cartago', p('Cartago'))\n",
    "print('Puntarenas', p('Puntarenas'))\n",
    "print('Heredia', p('Heredia'))\n",
    "print('Limon', p('Limón'))\n",
    "print('Guanacaste', p('Guanacaste'))\n"
   ]
  },
  {
   "cell_type": "code",
   "execution_count": 18,
   "metadata": {},
   "outputs": [
    {
     "name": "stdout",
     "output_type": "stream",
     "text": [
      "San Jose 0.5255015423312867\n",
      "Alajuela 0.4689268311010028\n",
      "Cartago 0.3468885519234479\n",
      "Puntarenas 0.3306029346219251\n",
      "Heredia 0.3225815802576514\n",
      "Limon 0.3191762324260967\n",
      "Guanacaste 0.29552443133242257\n"
     ]
    }
   ],
   "source": [
    "def H(s):\n",
    "    temp = p(s)\n",
    "    return temp * -math.log2(temp)\n",
    "\n",
    "print('San Jose', H('San_José'))\n",
    "print('Alajuela', H('Alajuela'))\n",
    "print('Cartago', H('Cartago'))\n",
    "print('Puntarenas', H('Puntarenas'))\n",
    "print('Heredia', H('Heredia'))\n",
    "print('Limon', H('Limón'))\n",
    "print('Guanacaste', H('Guanacaste'))"
   ]
  },
  {
   "cell_type": "code",
   "execution_count": 19,
   "metadata": {},
   "outputs": [
    {
     "name": "stdout",
     "output_type": "stream",
     "text": [
      "['San_José' 'Alajuela' 'Cartago' 'Puntarenas' 'Heredia' 'Limón'\n",
      " 'Guanacaste']\n",
      "2.609202103993833\n"
     ]
    }
   ],
   "source": [
    "names = df['provincia'].values\n",
    "print(names)\n",
    "\n",
    "total_entropia = 0\n",
    "for s in names:\n",
    "    total_entropia += H(s)\n",
    "\n",
    "print(total_entropia)\n"
   ]
  },
  {
   "cell_type": "code",
   "execution_count": 20,
   "metadata": {},
   "outputs": [
    {
     "name": "stdout",
     "output_type": "stream",
     "text": [
      "San Jose 1.6555008336562327\n",
      "Alajuela 2.2843472246830263\n",
      "Cartago 3.210052968942124\n",
      "Puntarenas 3.3341457256413083\n",
      "Heredia 3.396174711794623\n",
      "Limon 3.422716794771537\n",
      "Guanacaste 3.611081786093564\n"
     ]
    }
   ],
   "source": [
    "def cant_bits(s):\n",
    "    return -math.log2(p(s))\n",
    "\n",
    "print('San Jose', cant_bits('San_José'))\n",
    "print('Alajuela', cant_bits('Alajuela'))\n",
    "print('Cartago', cant_bits('Cartago'))\n",
    "print('Puntarenas', cant_bits('Puntarenas'))\n",
    "print('Heredia', cant_bits('Heredia'))\n",
    "print('Limon', cant_bits('Limón'))\n",
    "print('Guanacaste', cant_bits('Guanacaste'))"
   ]
  }
 ],
 "metadata": {
  "kernelspec": {
   "display_name": "nn",
   "language": "python",
   "name": "python3"
  },
  "language_info": {
   "codemirror_mode": {
    "name": "ipython",
    "version": 3
   },
   "file_extension": ".py",
   "mimetype": "text/x-python",
   "name": "python",
   "nbconvert_exporter": "python",
   "pygments_lexer": "ipython3",
   "version": "3.10.13"
  }
 },
 "nbformat": 4,
 "nbformat_minor": 2
}
