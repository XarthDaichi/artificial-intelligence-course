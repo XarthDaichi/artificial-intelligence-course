{
 "cells": [
  {
   "cell_type": "markdown",
   "metadata": {},
   "source": [
    "Sabiendo que $\\log_{2}(1/p(s))$"
   ]
  },
  {
   "cell_type": "markdown",
   "metadata": {},
   "source": [
    "1. Sea S un conjunto finito cualquiera que contiene iguales cantidades de dos clases de objetos distintos, digamos A y B. ¿Cuánto es la entropía H(S) de S ? Explique en términos de cantidad de bits esperados por objeto si su resultado tiene sentido.\n",
    "\n",
    "$$\n",
    "H(s) = P(s) - \\log_{2}(P(s))\n",
    "$$\n",
    "Se sabe que P(s) es 50% para cualquiera de los dos objetos, por enunciado\n",
    "\n",
    "$$\n",
    "H(s) = 0.5 * - \\log_{2}(0.5) \\\\\n",
    "H(s) = 0.5 * - - 1 \\\\\n",
    "H(s) = 0.5 \\\\\n",
    "\\therefore \\text{se espera que cada objeto se exprese con } \\sim\\text{0.5 bits}\n",
    "$$"
   ]
  },
  {
   "cell_type": "markdown",
   "metadata": {},
   "source": [
    "2. Trate de justificar o refutar intuitivamente la siguiente frase: \"a más entropía menos similitud (pureza)\".\n",
    "\n",
    "Se sabe que entre mayor entropía es mayor la cantidad de bits que se utiliza para representar el objeto. Esto implica que en el árbol de decisiones va a mostrarse más alejado de la raíz. Como está más alejado de la raíz entonces es menos similar al otro. Concluyendo que en efecto entre más entropía menos similitud."
   ]
  },
  {
   "cell_type": "markdown",
   "metadata": {},
   "source": [
    "3. Usando el dataset mamíferos.csv, calcule el feature que produce el split (partición) del dataset de  mínima entropía, entre los features predictores vuela, ponehuevos, nada. Recuerde que nuestro feature target es mamífero. Indique la partición en cada caso. Note que ese feature sería la primera pregunta de un árbol de decisión basado en esos datos."
   ]
  },
  {
   "cell_type": "code",
   "execution_count": 2,
   "metadata": {},
   "outputs": [],
   "source": [
    "import numpy as np\n",
    "import math"
   ]
  },
  {
   "cell_type": "code",
   "execution_count": 3,
   "metadata": {},
   "outputs": [],
   "source": [
    "data = np.loadtxt('./drive-download-20240304T191658Z-001/mamiferos.csv', dtype=str, delimiter=',')"
   ]
  },
  {
   "cell_type": "code",
   "execution_count": 4,
   "metadata": {},
   "outputs": [
    {
     "data": {
      "text/plain": [
       "(8, 5)"
      ]
     },
     "execution_count": 4,
     "metadata": {},
     "output_type": "execute_result"
    }
   ],
   "source": [
    "data.shape"
   ]
  },
  {
   "cell_type": "code",
   "execution_count": 5,
   "metadata": {},
   "outputs": [
    {
     "name": "stdout",
     "output_type": "stream",
     "text": [
      "{'vuela': 0, 'ponehuevos': 1, 'nada': 2, 'mamifero': 3}\n"
     ]
    }
   ],
   "source": [
    "features_index = {n:i for i, n in enumerate(data[0,1:])}\n",
    "print(features_index)"
   ]
  },
  {
   "cell_type": "code",
   "execution_count": 6,
   "metadata": {},
   "outputs": [],
   "source": [
    "def column(f):\n",
    "    return features_index[f]"
   ]
  },
  {
   "cell_type": "code",
   "execution_count": 7,
   "metadata": {},
   "outputs": [
    {
     "name": "stdout",
     "output_type": "stream",
     "text": [
      "[[0 1 0 0]\n",
      " [0 0 1 1]\n",
      " [0 0 1 1]\n",
      " [0 1 1 0]\n",
      " [1 1 1 0]\n",
      " [0 1 1 1]\n",
      " [1 0 0 1]]\n"
     ]
    }
   ],
   "source": [
    "info_as_int = data[1:, 1:].astype(int)\n",
    "print(info_as_int)"
   ]
  },
  {
   "cell_type": "code",
   "execution_count": 8,
   "metadata": {},
   "outputs": [],
   "source": [
    "animals = data[1:, 0]\n",
    "total_animals = len(animals)"
   ]
  },
  {
   "cell_type": "code",
   "execution_count": 9,
   "metadata": {},
   "outputs": [],
   "source": [
    "vuela = info_as_int[:, column('vuela')]\n",
    "ponehuevos = info_as_int[:, column('ponehuevos')]\n",
    "nada = info_as_int[:, column('nada')]\n",
    "mamifero = info_as_int[:, column('mamifero')]\n"
   ]
  },
  {
   "cell_type": "code",
   "execution_count": 10,
   "metadata": {},
   "outputs": [],
   "source": [
    "def p(s, total):\n",
    "    return len(s) / total"
   ]
  },
  {
   "cell_type": "code",
   "execution_count": 11,
   "metadata": {},
   "outputs": [],
   "source": [
    "def H(s, total):\n",
    "    p_s = p(s, total)\n",
    "    if (p_s != 0):\n",
    "        return p_s - math.log2(p_s)\n",
    "    return None"
   ]
  },
  {
   "cell_type": "code",
   "execution_count": 12,
   "metadata": {},
   "outputs": [
    {
     "data": {
      "text/plain": [
       "array(['pato', 'murcielago'], dtype='<U12')"
      ]
     },
     "execution_count": 12,
     "metadata": {},
     "output_type": "execute_result"
    }
   ],
   "source": [
    "animals[(vuela == 1)]"
   ]
  },
  {
   "cell_type": "code",
   "execution_count": 13,
   "metadata": {},
   "outputs": [
    {
     "name": "stdout",
     "output_type": "stream",
     "text": [
      "Vuela 2.0930692077718898\n",
      "Ponehuevos 1.3787834934861758\n",
      "Nada 1.199712541455956\n",
      "Mamiferos 1.3787834934861758\n"
     ]
    }
   ],
   "source": [
    "print('Vuela', H(animals[(vuela == 1)], total_animals))\n",
    "print('Ponehuevos', H(animals[(ponehuevos == 1)], total_animals))\n",
    "print('Nada', H(animals[(nada == 1)], total_animals))\n",
    "print('Mamiferos', H(animals[(mamifero == 1)], total_animals))"
   ]
  },
  {
   "cell_type": "code",
   "execution_count": 14,
   "metadata": {},
   "outputs": [
    {
     "name": "stdout",
     "output_type": "stream",
     "text": [
      "Nada y Vuela None\n",
      "Nada y Ponehuevos 1.5\n"
     ]
    }
   ],
   "source": [
    "temp_total = len(animals[(nada == 1)])\n",
    "print('Nada y Vuela', H(animals[((nada & mamifero) & vuela == 1)], total_animals - temp_total))\n",
    "print('Nada y Ponehuevos', H(animals[((nada & mamifero) & ponehuevos == 1)], total_animals - temp_total))"
   ]
  },
  {
   "cell_type": "code",
   "execution_count": null,
   "metadata": {},
   "outputs": [],
   "source": []
  }
 ],
 "metadata": {
  "kernelspec": {
   "display_name": "nn",
   "language": "python",
   "name": "python3"
  },
  "language_info": {
   "codemirror_mode": {
    "name": "ipython",
    "version": 3
   },
   "file_extension": ".py",
   "mimetype": "text/x-python",
   "name": "python",
   "nbconvert_exporter": "python",
   "pygments_lexer": "ipython3",
   "version": "3.10.13"
  }
 },
 "nbformat": 4,
 "nbformat_minor": 2
}
